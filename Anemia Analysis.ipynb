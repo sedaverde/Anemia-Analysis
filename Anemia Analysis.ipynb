{
 "cells": [
  {
   "cell_type": "code",
   "execution_count": null,
   "id": "70988bba",
   "metadata": {},
   "outputs": [],
   "source": [
    "# import dependencies and files\n",
    "# remove unneeded columns from the data\n",
    "# median file needs to have rows with dates prior to 2000 removed and rows with null values in code\n",
    "# GDP file needs to have columns with data before 2000 removed \n",
    "# better code may be to just import the information into anemia file\n",
    "# convert data into appropriate units"
   ]
  }
 ],
 "metadata": {
  "kernelspec": {
   "display_name": "PythonV1",
   "language": "python",
   "name": "pythonv1"
  },
  "language_info": {
   "codemirror_mode": {
    "name": "ipython",
    "version": 3
   },
   "file_extension": ".py",
   "mimetype": "text/x-python",
   "name": "python",
   "nbconvert_exporter": "python",
   "pygments_lexer": "ipython3",
   "version": "3.9.7"
  }
 },
 "nbformat": 4,
 "nbformat_minor": 5
}
